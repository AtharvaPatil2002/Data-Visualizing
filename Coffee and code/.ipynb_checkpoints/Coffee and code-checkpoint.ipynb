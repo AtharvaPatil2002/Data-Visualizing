{
 "cells": [
  {
   "cell_type": "markdown",
   "id": "ceac84cf",
   "metadata": {
    "papermill": {
     "duration": 0.057257,
     "end_time": "2021-10-14T03:13:50.847220",
     "exception": false,
     "start_time": "2021-10-14T03:13:50.789963",
     "status": "completed"
    },
    "tags": []
   },
   "source": [
    "# Importing Libraries"
   ]
  },
  {
   "cell_type": "code",
   "execution_count": 1,
   "id": "4e064d78",
   "metadata": {
    "execution": {
     "iopub.execute_input": "2021-10-14T03:13:50.971315Z",
     "iopub.status.busy": "2021-10-14T03:13:50.970537Z",
     "iopub.status.idle": "2021-10-14T03:13:53.183372Z",
     "shell.execute_reply": "2021-10-14T03:13:53.184133Z"
    },
    "papermill": {
     "duration": 2.281963,
     "end_time": "2021-10-14T03:13:53.184429",
     "exception": false,
     "start_time": "2021-10-14T03:13:50.902466",
     "status": "completed"
    },
    "tags": []
   },
   "outputs": [],
   "source": [
    "import pandas as pd\n",
    "import numpy as np\n",
    "import matplotlib.pyplot as plt\n",
    "import seaborn as sns\n",
    "import plotly.express as px\n",
    "import plotly.graph_objects as go\n",
    "%matplotlib inline"
   ]
  },
  {
   "cell_type": "markdown",
   "id": "407f3354",
   "metadata": {
    "papermill": {
     "duration": 0.052809,
     "end_time": "2021-10-14T03:13:53.291334",
     "exception": false,
     "start_time": "2021-10-14T03:13:53.238525",
     "status": "completed"
    },
    "tags": []
   },
   "source": [
    "# Loading DataSet"
   ]
  },
  {
   "cell_type": "code",
   "execution_count": 3,
   "id": "49f3a336",
   "metadata": {
    "execution": {
     "iopub.execute_input": "2021-10-14T03:13:53.423648Z",
     "iopub.status.busy": "2021-10-14T03:13:53.422909Z",
     "iopub.status.idle": "2021-10-14T03:13:53.468325Z",
     "shell.execute_reply": "2021-10-14T03:13:53.468811Z"
    },
    "papermill": {
     "duration": 0.120651,
     "end_time": "2021-10-14T03:13:53.468995",
     "exception": false,
     "start_time": "2021-10-14T03:13:53.348344",
     "status": "completed"
    },
    "tags": []
   },
   "outputs": [
    {
     "data": {
      "text/html": [
       "<div>\n",
       "<style scoped>\n",
       "    .dataframe tbody tr th:only-of-type {\n",
       "        vertical-align: middle;\n",
       "    }\n",
       "\n",
       "    .dataframe tbody tr th {\n",
       "        vertical-align: top;\n",
       "    }\n",
       "\n",
       "    .dataframe thead th {\n",
       "        text-align: right;\n",
       "    }\n",
       "</style>\n",
       "<table border=\"1\" class=\"dataframe\">\n",
       "  <thead>\n",
       "    <tr style=\"text-align: right;\">\n",
       "      <th></th>\n",
       "      <th>CodingHours</th>\n",
       "      <th>CoffeeCupsPerDay</th>\n",
       "      <th>CoffeeTime</th>\n",
       "      <th>CodingWithoutCoffee</th>\n",
       "      <th>CoffeeType</th>\n",
       "      <th>CoffeeSolveBugs</th>\n",
       "      <th>Gender</th>\n",
       "      <th>Country</th>\n",
       "      <th>AgeRange</th>\n",
       "    </tr>\n",
       "  </thead>\n",
       "  <tbody>\n",
       "    <tr>\n",
       "      <th>0</th>\n",
       "      <td>8</td>\n",
       "      <td>2</td>\n",
       "      <td>Before coding</td>\n",
       "      <td>Yes</td>\n",
       "      <td>Caffè latte</td>\n",
       "      <td>Sometimes</td>\n",
       "      <td>Female</td>\n",
       "      <td>Lebanon</td>\n",
       "      <td>18 to 29</td>\n",
       "    </tr>\n",
       "    <tr>\n",
       "      <th>1</th>\n",
       "      <td>3</td>\n",
       "      <td>2</td>\n",
       "      <td>Before coding</td>\n",
       "      <td>Yes</td>\n",
       "      <td>Americano</td>\n",
       "      <td>Yes</td>\n",
       "      <td>Female</td>\n",
       "      <td>Lebanon</td>\n",
       "      <td>30 to 39</td>\n",
       "    </tr>\n",
       "    <tr>\n",
       "      <th>2</th>\n",
       "      <td>5</td>\n",
       "      <td>3</td>\n",
       "      <td>While coding</td>\n",
       "      <td>No</td>\n",
       "      <td>Nescafe</td>\n",
       "      <td>Yes</td>\n",
       "      <td>Female</td>\n",
       "      <td>Lebanon</td>\n",
       "      <td>18 to 29</td>\n",
       "    </tr>\n",
       "    <tr>\n",
       "      <th>3</th>\n",
       "      <td>8</td>\n",
       "      <td>2</td>\n",
       "      <td>Before coding</td>\n",
       "      <td>No</td>\n",
       "      <td>Nescafe</td>\n",
       "      <td>Yes</td>\n",
       "      <td>Male</td>\n",
       "      <td>Lebanon</td>\n",
       "      <td>NaN</td>\n",
       "    </tr>\n",
       "    <tr>\n",
       "      <th>4</th>\n",
       "      <td>10</td>\n",
       "      <td>3</td>\n",
       "      <td>While coding</td>\n",
       "      <td>Sometimes</td>\n",
       "      <td>Turkish</td>\n",
       "      <td>No</td>\n",
       "      <td>Male</td>\n",
       "      <td>Lebanon</td>\n",
       "      <td>18 to 29</td>\n",
       "    </tr>\n",
       "    <tr>\n",
       "      <th>...</th>\n",
       "      <td>...</td>\n",
       "      <td>...</td>\n",
       "      <td>...</td>\n",
       "      <td>...</td>\n",
       "      <td>...</td>\n",
       "      <td>...</td>\n",
       "      <td>...</td>\n",
       "      <td>...</td>\n",
       "      <td>...</td>\n",
       "    </tr>\n",
       "    <tr>\n",
       "      <th>95</th>\n",
       "      <td>6</td>\n",
       "      <td>2</td>\n",
       "      <td>Before coding</td>\n",
       "      <td>Yes</td>\n",
       "      <td>Nescafe</td>\n",
       "      <td>Yes</td>\n",
       "      <td>Male</td>\n",
       "      <td>Lebanon</td>\n",
       "      <td>18 to 29</td>\n",
       "    </tr>\n",
       "    <tr>\n",
       "      <th>96</th>\n",
       "      <td>4</td>\n",
       "      <td>1</td>\n",
       "      <td>Before coding</td>\n",
       "      <td>Sometimes</td>\n",
       "      <td>Nescafe</td>\n",
       "      <td>Sometimes</td>\n",
       "      <td>Female</td>\n",
       "      <td>Lebanon</td>\n",
       "      <td>18 to 29</td>\n",
       "    </tr>\n",
       "    <tr>\n",
       "      <th>97</th>\n",
       "      <td>10</td>\n",
       "      <td>3</td>\n",
       "      <td>Before coding</td>\n",
       "      <td>Yes</td>\n",
       "      <td>Cappuccino</td>\n",
       "      <td>Yes</td>\n",
       "      <td>Male</td>\n",
       "      <td>Lebanon</td>\n",
       "      <td>Under 18</td>\n",
       "    </tr>\n",
       "    <tr>\n",
       "      <th>98</th>\n",
       "      <td>2</td>\n",
       "      <td>2</td>\n",
       "      <td>While coding</td>\n",
       "      <td>Sometimes</td>\n",
       "      <td>Espresso (Short Black)</td>\n",
       "      <td>Sometimes</td>\n",
       "      <td>Female</td>\n",
       "      <td>Lebanon</td>\n",
       "      <td>18 to 29</td>\n",
       "    </tr>\n",
       "    <tr>\n",
       "      <th>99</th>\n",
       "      <td>10</td>\n",
       "      <td>4</td>\n",
       "      <td>Before coding</td>\n",
       "      <td>Sometimes</td>\n",
       "      <td>Double Espresso (Doppio)</td>\n",
       "      <td>Sometimes</td>\n",
       "      <td>Male</td>\n",
       "      <td>Lebanon</td>\n",
       "      <td>18 to 29</td>\n",
       "    </tr>\n",
       "  </tbody>\n",
       "</table>\n",
       "<p>100 rows × 9 columns</p>\n",
       "</div>"
      ],
      "text/plain": [
       "    CodingHours  CoffeeCupsPerDay     CoffeeTime CodingWithoutCoffee  \\\n",
       "0             8                 2  Before coding                 Yes   \n",
       "1             3                 2  Before coding                 Yes   \n",
       "2             5                 3   While coding                  No   \n",
       "3             8                 2  Before coding                  No   \n",
       "4            10                 3   While coding           Sometimes   \n",
       "..          ...               ...            ...                 ...   \n",
       "95            6                 2  Before coding                 Yes   \n",
       "96            4                 1  Before coding           Sometimes   \n",
       "97           10                 3  Before coding                 Yes   \n",
       "98            2                 2   While coding           Sometimes   \n",
       "99           10                 4  Before coding           Sometimes   \n",
       "\n",
       "                  CoffeeType CoffeeSolveBugs  Gender  Country  AgeRange  \n",
       "0                Caffè latte       Sometimes  Female  Lebanon  18 to 29  \n",
       "1                  Americano             Yes  Female  Lebanon  30 to 39  \n",
       "2                    Nescafe             Yes  Female  Lebanon  18 to 29  \n",
       "3                    Nescafe             Yes    Male  Lebanon       NaN  \n",
       "4                    Turkish              No    Male  Lebanon  18 to 29  \n",
       "..                       ...             ...     ...      ...       ...  \n",
       "95                   Nescafe             Yes    Male  Lebanon  18 to 29  \n",
       "96                   Nescafe       Sometimes  Female  Lebanon  18 to 29  \n",
       "97                Cappuccino             Yes    Male  Lebanon  Under 18  \n",
       "98    Espresso (Short Black)       Sometimes  Female  Lebanon  18 to 29  \n",
       "99  Double Espresso (Doppio)       Sometimes    Male  Lebanon  18 to 29  \n",
       "\n",
       "[100 rows x 9 columns]"
      ]
     },
     "execution_count": 3,
     "metadata": {},
     "output_type": "execute_result"
    }
   ],
   "source": [
    "df = pd.read_csv(\"CoffeeAndCodeLT2018 - CoffeeAndCodeLT2018.csv\")\n",
    "df"
   ]
  },
  {
   "cell_type": "code",
   "execution_count": 7,
   "id": "cb83d627",
   "metadata": {
    "execution": {
     "iopub.execute_input": "2021-10-14T03:13:54.098337Z",
     "iopub.status.busy": "2021-10-14T03:13:54.097674Z",
     "iopub.status.idle": "2021-10-14T03:13:54.100274Z",
     "shell.execute_reply": "2021-10-14T03:13:54.100730Z"
    },
    "papermill": {
     "duration": 0.070746,
     "end_time": "2021-10-14T03:13:54.100904",
     "exception": false,
     "start_time": "2021-10-14T03:13:54.030158",
     "status": "completed"
    },
    "tags": []
   },
   "outputs": [
    {
     "data": {
      "text/html": [
       "<div>\n",
       "<style scoped>\n",
       "    .dataframe tbody tr th:only-of-type {\n",
       "        vertical-align: middle;\n",
       "    }\n",
       "\n",
       "    .dataframe tbody tr th {\n",
       "        vertical-align: top;\n",
       "    }\n",
       "\n",
       "    .dataframe thead th {\n",
       "        text-align: right;\n",
       "    }\n",
       "</style>\n",
       "<table border=\"1\" class=\"dataframe\">\n",
       "  <thead>\n",
       "    <tr style=\"text-align: right;\">\n",
       "      <th></th>\n",
       "      <th>CodingHours</th>\n",
       "      <th>CoffeeCupsPerDay</th>\n",
       "      <th>CoffeeTime</th>\n",
       "      <th>CodingWithoutCoffee</th>\n",
       "      <th>CoffeeType</th>\n",
       "      <th>CoffeeSolveBugs</th>\n",
       "      <th>Gender</th>\n",
       "      <th>Country</th>\n",
       "      <th>AgeRange</th>\n",
       "    </tr>\n",
       "  </thead>\n",
       "  <tbody>\n",
       "    <tr>\n",
       "      <th>0</th>\n",
       "      <td>8</td>\n",
       "      <td>2</td>\n",
       "      <td>Before coding</td>\n",
       "      <td>Yes</td>\n",
       "      <td>Caffè latte</td>\n",
       "      <td>Sometimes</td>\n",
       "      <td>Female</td>\n",
       "      <td>Lebanon</td>\n",
       "      <td>18 to 29</td>\n",
       "    </tr>\n",
       "    <tr>\n",
       "      <th>1</th>\n",
       "      <td>3</td>\n",
       "      <td>2</td>\n",
       "      <td>Before coding</td>\n",
       "      <td>Yes</td>\n",
       "      <td>Americano</td>\n",
       "      <td>Yes</td>\n",
       "      <td>Female</td>\n",
       "      <td>Lebanon</td>\n",
       "      <td>30 to 39</td>\n",
       "    </tr>\n",
       "    <tr>\n",
       "      <th>2</th>\n",
       "      <td>5</td>\n",
       "      <td>3</td>\n",
       "      <td>While coding</td>\n",
       "      <td>No</td>\n",
       "      <td>Nescafe</td>\n",
       "      <td>Yes</td>\n",
       "      <td>Female</td>\n",
       "      <td>Lebanon</td>\n",
       "      <td>18 to 29</td>\n",
       "    </tr>\n",
       "    <tr>\n",
       "      <th>3</th>\n",
       "      <td>8</td>\n",
       "      <td>2</td>\n",
       "      <td>Before coding</td>\n",
       "      <td>No</td>\n",
       "      <td>Nescafe</td>\n",
       "      <td>Yes</td>\n",
       "      <td>Male</td>\n",
       "      <td>Lebanon</td>\n",
       "      <td>NaN</td>\n",
       "    </tr>\n",
       "    <tr>\n",
       "      <th>4</th>\n",
       "      <td>10</td>\n",
       "      <td>3</td>\n",
       "      <td>While coding</td>\n",
       "      <td>Sometimes</td>\n",
       "      <td>Turkish</td>\n",
       "      <td>No</td>\n",
       "      <td>Male</td>\n",
       "      <td>Lebanon</td>\n",
       "      <td>18 to 29</td>\n",
       "    </tr>\n",
       "  </tbody>\n",
       "</table>\n",
       "</div>"
      ],
      "text/plain": [
       "   CodingHours  CoffeeCupsPerDay     CoffeeTime CodingWithoutCoffee  \\\n",
       "0            8                 2  Before coding                 Yes   \n",
       "1            3                 2  Before coding                 Yes   \n",
       "2            5                 3   While coding                  No   \n",
       "3            8                 2  Before coding                  No   \n",
       "4           10                 3   While coding           Sometimes   \n",
       "\n",
       "    CoffeeType CoffeeSolveBugs  Gender  Country  AgeRange  \n",
       "0  Caffè latte       Sometimes  Female  Lebanon  18 to 29  \n",
       "1    Americano             Yes  Female  Lebanon  30 to 39  \n",
       "2      Nescafe             Yes  Female  Lebanon  18 to 29  \n",
       "3      Nescafe             Yes    Male  Lebanon       NaN  \n",
       "4      Turkish              No    Male  Lebanon  18 to 29  "
      ]
     },
     "execution_count": 7,
     "metadata": {},
     "output_type": "execute_result"
    }
   ],
   "source": [
    "df.head()"
   ]
  },
  {
   "cell_type": "code",
   "execution_count": 8,
   "id": "b40d34c2",
   "metadata": {
    "execution": {
     "iopub.execute_input": "2021-10-14T03:13:54.224235Z",
     "iopub.status.busy": "2021-10-14T03:13:54.223219Z",
     "iopub.status.idle": "2021-10-14T03:13:54.231406Z",
     "shell.execute_reply": "2021-10-14T03:13:54.231938Z"
    },
    "papermill": {
     "duration": 0.073579,
     "end_time": "2021-10-14T03:13:54.232099",
     "exception": false,
     "start_time": "2021-10-14T03:13:54.158520",
     "status": "completed"
    },
    "tags": []
   },
   "outputs": [
    {
     "data": {
      "text/html": [
       "<div>\n",
       "<style scoped>\n",
       "    .dataframe tbody tr th:only-of-type {\n",
       "        vertical-align: middle;\n",
       "    }\n",
       "\n",
       "    .dataframe tbody tr th {\n",
       "        vertical-align: top;\n",
       "    }\n",
       "\n",
       "    .dataframe thead th {\n",
       "        text-align: right;\n",
       "    }\n",
       "</style>\n",
       "<table border=\"1\" class=\"dataframe\">\n",
       "  <thead>\n",
       "    <tr style=\"text-align: right;\">\n",
       "      <th></th>\n",
       "      <th>CodingHours</th>\n",
       "      <th>CoffeeCupsPerDay</th>\n",
       "      <th>CoffeeTime</th>\n",
       "      <th>CodingWithoutCoffee</th>\n",
       "      <th>CoffeeType</th>\n",
       "      <th>CoffeeSolveBugs</th>\n",
       "      <th>Gender</th>\n",
       "      <th>Country</th>\n",
       "      <th>AgeRange</th>\n",
       "    </tr>\n",
       "  </thead>\n",
       "  <tbody>\n",
       "    <tr>\n",
       "      <th>95</th>\n",
       "      <td>6</td>\n",
       "      <td>2</td>\n",
       "      <td>Before coding</td>\n",
       "      <td>Yes</td>\n",
       "      <td>Nescafe</td>\n",
       "      <td>Yes</td>\n",
       "      <td>Male</td>\n",
       "      <td>Lebanon</td>\n",
       "      <td>18 to 29</td>\n",
       "    </tr>\n",
       "    <tr>\n",
       "      <th>96</th>\n",
       "      <td>4</td>\n",
       "      <td>1</td>\n",
       "      <td>Before coding</td>\n",
       "      <td>Sometimes</td>\n",
       "      <td>Nescafe</td>\n",
       "      <td>Sometimes</td>\n",
       "      <td>Female</td>\n",
       "      <td>Lebanon</td>\n",
       "      <td>18 to 29</td>\n",
       "    </tr>\n",
       "    <tr>\n",
       "      <th>97</th>\n",
       "      <td>10</td>\n",
       "      <td>3</td>\n",
       "      <td>Before coding</td>\n",
       "      <td>Yes</td>\n",
       "      <td>Cappuccino</td>\n",
       "      <td>Yes</td>\n",
       "      <td>Male</td>\n",
       "      <td>Lebanon</td>\n",
       "      <td>Under 18</td>\n",
       "    </tr>\n",
       "    <tr>\n",
       "      <th>98</th>\n",
       "      <td>2</td>\n",
       "      <td>2</td>\n",
       "      <td>While coding</td>\n",
       "      <td>Sometimes</td>\n",
       "      <td>Espresso (Short Black)</td>\n",
       "      <td>Sometimes</td>\n",
       "      <td>Female</td>\n",
       "      <td>Lebanon</td>\n",
       "      <td>18 to 29</td>\n",
       "    </tr>\n",
       "    <tr>\n",
       "      <th>99</th>\n",
       "      <td>10</td>\n",
       "      <td>4</td>\n",
       "      <td>Before coding</td>\n",
       "      <td>Sometimes</td>\n",
       "      <td>Double Espresso (Doppio)</td>\n",
       "      <td>Sometimes</td>\n",
       "      <td>Male</td>\n",
       "      <td>Lebanon</td>\n",
       "      <td>18 to 29</td>\n",
       "    </tr>\n",
       "  </tbody>\n",
       "</table>\n",
       "</div>"
      ],
      "text/plain": [
       "    CodingHours  CoffeeCupsPerDay     CoffeeTime CodingWithoutCoffee  \\\n",
       "95            6                 2  Before coding                 Yes   \n",
       "96            4                 1  Before coding           Sometimes   \n",
       "97           10                 3  Before coding                 Yes   \n",
       "98            2                 2   While coding           Sometimes   \n",
       "99           10                 4  Before coding           Sometimes   \n",
       "\n",
       "                  CoffeeType CoffeeSolveBugs  Gender  Country  AgeRange  \n",
       "95                   Nescafe             Yes    Male  Lebanon  18 to 29  \n",
       "96                   Nescafe       Sometimes  Female  Lebanon  18 to 29  \n",
       "97                Cappuccino             Yes    Male  Lebanon  Under 18  \n",
       "98    Espresso (Short Black)       Sometimes  Female  Lebanon  18 to 29  \n",
       "99  Double Espresso (Doppio)       Sometimes    Male  Lebanon  18 to 29  "
      ]
     },
     "execution_count": 8,
     "metadata": {},
     "output_type": "execute_result"
    }
   ],
   "source": [
    "df.tail()"
   ]
  },
  {
   "cell_type": "code",
   "execution_count": 9,
   "id": "fe85923a",
   "metadata": {
    "execution": {
     "iopub.execute_input": "2021-10-14T03:13:54.350253Z",
     "iopub.status.busy": "2021-10-14T03:13:54.349315Z",
     "iopub.status.idle": "2021-10-14T03:13:54.355508Z",
     "shell.execute_reply": "2021-10-14T03:13:54.356100Z"
    },
    "papermill": {
     "duration": 0.067472,
     "end_time": "2021-10-14T03:13:54.356261",
     "exception": false,
     "start_time": "2021-10-14T03:13:54.288789",
     "status": "completed"
    },
    "tags": []
   },
   "outputs": [
    {
     "data": {
      "text/plain": [
       "CodingHours             int64\n",
       "CoffeeCupsPerDay        int64\n",
       "CoffeeTime             object\n",
       "CodingWithoutCoffee    object\n",
       "CoffeeType             object\n",
       "CoffeeSolveBugs        object\n",
       "Gender                 object\n",
       "Country                object\n",
       "AgeRange               object\n",
       "dtype: object"
      ]
     },
     "execution_count": 9,
     "metadata": {},
     "output_type": "execute_result"
    }
   ],
   "source": [
    "df.dtypes"
   ]
  },
  {
   "cell_type": "code",
   "execution_count": 10,
   "id": "7d7f3201",
   "metadata": {
    "execution": {
     "iopub.execute_input": "2021-10-14T03:13:54.478109Z",
     "iopub.status.busy": "2021-10-14T03:13:54.476976Z",
     "iopub.status.idle": "2021-10-14T03:13:54.481697Z",
     "shell.execute_reply": "2021-10-14T03:13:54.481240Z"
    },
    "papermill": {
     "duration": 0.067496,
     "end_time": "2021-10-14T03:13:54.481835",
     "exception": false,
     "start_time": "2021-10-14T03:13:54.414339",
     "status": "completed"
    },
    "tags": []
   },
   "outputs": [
    {
     "data": {
      "text/plain": [
       "Index(['CodingHours', 'CoffeeCupsPerDay', 'CoffeeTime', 'CodingWithoutCoffee',\n",
       "       'CoffeeType', 'CoffeeSolveBugs', 'Gender', 'Country', 'AgeRange'],\n",
       "      dtype='object')"
      ]
     },
     "execution_count": 10,
     "metadata": {},
     "output_type": "execute_result"
    }
   ],
   "source": [
    "df.columns"
   ]
  },
  {
   "cell_type": "code",
   "execution_count": 11,
   "id": "ed90c7cd",
   "metadata": {
    "execution": {
     "iopub.execute_input": "2021-10-14T03:13:54.600615Z",
     "iopub.status.busy": "2021-10-14T03:13:54.600020Z",
     "iopub.status.idle": "2021-10-14T03:13:54.603306Z",
     "shell.execute_reply": "2021-10-14T03:13:54.602764Z"
    },
    "papermill": {
     "duration": 0.064821,
     "end_time": "2021-10-14T03:13:54.603450",
     "exception": false,
     "start_time": "2021-10-14T03:13:54.538629",
     "status": "completed"
    },
    "tags": []
   },
   "outputs": [
    {
     "data": {
      "text/plain": [
       "900"
      ]
     },
     "execution_count": 11,
     "metadata": {},
     "output_type": "execute_result"
    }
   ],
   "source": [
    "df.size"
   ]
  },
  {
   "cell_type": "code",
   "execution_count": 12,
   "id": "f395c7e3",
   "metadata": {
    "execution": {
     "iopub.execute_input": "2021-10-14T03:13:54.724989Z",
     "iopub.status.busy": "2021-10-14T03:13:54.724173Z",
     "iopub.status.idle": "2021-10-14T03:13:54.727683Z",
     "shell.execute_reply": "2021-10-14T03:13:54.727184Z"
    },
    "papermill": {
     "duration": 0.066509,
     "end_time": "2021-10-14T03:13:54.727811",
     "exception": false,
     "start_time": "2021-10-14T03:13:54.661302",
     "status": "completed"
    },
    "tags": []
   },
   "outputs": [
    {
     "data": {
      "text/plain": [
       "(100, 9)"
      ]
     },
     "execution_count": 12,
     "metadata": {},
     "output_type": "execute_result"
    }
   ],
   "source": [
    "df.shape"
   ]
  },
  {
   "cell_type": "code",
   "execution_count": 13,
   "id": "8295c448",
   "metadata": {
    "execution": {
     "iopub.execute_input": "2021-10-14T03:13:54.857245Z",
     "iopub.status.busy": "2021-10-14T03:13:54.856341Z",
     "iopub.status.idle": "2021-10-14T03:13:54.859491Z",
     "shell.execute_reply": "2021-10-14T03:13:54.859985Z"
    },
    "papermill": {
     "duration": 0.073823,
     "end_time": "2021-10-14T03:13:54.860148",
     "exception": false,
     "start_time": "2021-10-14T03:13:54.786325",
     "status": "completed"
    },
    "tags": []
   },
   "outputs": [
    {
     "name": "stdout",
     "output_type": "stream",
     "text": [
      "<class 'pandas.core.frame.DataFrame'>\n",
      "RangeIndex: 100 entries, 0 to 99\n",
      "Data columns (total 9 columns):\n",
      " #   Column               Non-Null Count  Dtype \n",
      "---  ------               --------------  ----- \n",
      " 0   CodingHours          100 non-null    int64 \n",
      " 1   CoffeeCupsPerDay     100 non-null    int64 \n",
      " 2   CoffeeTime           100 non-null    object\n",
      " 3   CodingWithoutCoffee  100 non-null    object\n",
      " 4   CoffeeType           99 non-null     object\n",
      " 5   CoffeeSolveBugs      100 non-null    object\n",
      " 6   Gender               100 non-null    object\n",
      " 7   Country              100 non-null    object\n",
      " 8   AgeRange             98 non-null     object\n",
      "dtypes: int64(2), object(7)\n",
      "memory usage: 7.2+ KB\n"
     ]
    }
   ],
   "source": [
    "df.info()"
   ]
  },
  {
   "cell_type": "code",
   "execution_count": 14,
   "id": "a908e618",
   "metadata": {
    "execution": {
     "iopub.execute_input": "2021-10-14T03:13:54.987418Z",
     "iopub.status.busy": "2021-10-14T03:13:54.985544Z",
     "iopub.status.idle": "2021-10-14T03:13:54.998032Z",
     "shell.execute_reply": "2021-10-14T03:13:54.998559Z"
    },
    "papermill": {
     "duration": 0.078387,
     "end_time": "2021-10-14T03:13:54.998732",
     "exception": false,
     "start_time": "2021-10-14T03:13:54.920345",
     "status": "completed"
    },
    "tags": []
   },
   "outputs": [
    {
     "data": {
      "text/html": [
       "<div>\n",
       "<style scoped>\n",
       "    .dataframe tbody tr th:only-of-type {\n",
       "        vertical-align: middle;\n",
       "    }\n",
       "\n",
       "    .dataframe tbody tr th {\n",
       "        vertical-align: top;\n",
       "    }\n",
       "\n",
       "    .dataframe thead th {\n",
       "        text-align: right;\n",
       "    }\n",
       "</style>\n",
       "<table border=\"1\" class=\"dataframe\">\n",
       "  <thead>\n",
       "    <tr style=\"text-align: right;\">\n",
       "      <th></th>\n",
       "      <th>CodingHours</th>\n",
       "      <th>CoffeeCupsPerDay</th>\n",
       "    </tr>\n",
       "  </thead>\n",
       "  <tbody>\n",
       "    <tr>\n",
       "      <th>count</th>\n",
       "      <td>100.000000</td>\n",
       "      <td>100.000000</td>\n",
       "    </tr>\n",
       "    <tr>\n",
       "      <th>mean</th>\n",
       "      <td>6.410000</td>\n",
       "      <td>2.890000</td>\n",
       "    </tr>\n",
       "    <tr>\n",
       "      <th>std</th>\n",
       "      <td>2.644205</td>\n",
       "      <td>1.613673</td>\n",
       "    </tr>\n",
       "    <tr>\n",
       "      <th>min</th>\n",
       "      <td>1.000000</td>\n",
       "      <td>1.000000</td>\n",
       "    </tr>\n",
       "    <tr>\n",
       "      <th>25%</th>\n",
       "      <td>4.000000</td>\n",
       "      <td>2.000000</td>\n",
       "    </tr>\n",
       "    <tr>\n",
       "      <th>50%</th>\n",
       "      <td>7.000000</td>\n",
       "      <td>2.500000</td>\n",
       "    </tr>\n",
       "    <tr>\n",
       "      <th>75%</th>\n",
       "      <td>8.000000</td>\n",
       "      <td>4.000000</td>\n",
       "    </tr>\n",
       "    <tr>\n",
       "      <th>max</th>\n",
       "      <td>10.000000</td>\n",
       "      <td>8.000000</td>\n",
       "    </tr>\n",
       "  </tbody>\n",
       "</table>\n",
       "</div>"
      ],
      "text/plain": [
       "       CodingHours  CoffeeCupsPerDay\n",
       "count   100.000000        100.000000\n",
       "mean      6.410000          2.890000\n",
       "std       2.644205          1.613673\n",
       "min       1.000000          1.000000\n",
       "25%       4.000000          2.000000\n",
       "50%       7.000000          2.500000\n",
       "75%       8.000000          4.000000\n",
       "max      10.000000          8.000000"
      ]
     },
     "execution_count": 14,
     "metadata": {},
     "output_type": "execute_result"
    }
   ],
   "source": [
    "df.describe()"
   ]
  },
  {
   "cell_type": "code",
   "execution_count": 15,
   "id": "f43d1415",
   "metadata": {
    "execution": {
     "iopub.execute_input": "2021-10-14T03:13:55.126383Z",
     "iopub.status.busy": "2021-10-14T03:13:55.125575Z",
     "iopub.status.idle": "2021-10-14T03:13:55.129298Z",
     "shell.execute_reply": "2021-10-14T03:13:55.128774Z"
    },
    "papermill": {
     "duration": 0.071029,
     "end_time": "2021-10-14T03:13:55.129431",
     "exception": false,
     "start_time": "2021-10-14T03:13:55.058402",
     "status": "completed"
    },
    "tags": []
   },
   "outputs": [
    {
     "data": {
      "text/plain": [
       "CodingHours            0\n",
       "CoffeeCupsPerDay       0\n",
       "CoffeeTime             0\n",
       "CodingWithoutCoffee    0\n",
       "CoffeeType             1\n",
       "CoffeeSolveBugs        0\n",
       "Gender                 0\n",
       "Country                0\n",
       "AgeRange               2\n",
       "dtype: int64"
      ]
     },
     "execution_count": 15,
     "metadata": {},
     "output_type": "execute_result"
    }
   ],
   "source": [
    "df.isnull().sum()"
   ]
  },
  {
   "cell_type": "code",
   "execution_count": 16,
   "id": "125e4025",
   "metadata": {
    "execution": {
     "iopub.execute_input": "2021-10-14T03:13:55.256760Z",
     "iopub.status.busy": "2021-10-14T03:13:55.256123Z",
     "iopub.status.idle": "2021-10-14T03:13:55.258816Z",
     "shell.execute_reply": "2021-10-14T03:13:55.259353Z"
    },
    "papermill": {
     "duration": 0.071498,
     "end_time": "2021-10-14T03:13:55.259514",
     "exception": false,
     "start_time": "2021-10-14T03:13:55.188016",
     "status": "completed"
    },
    "tags": []
   },
   "outputs": [
    {
     "data": {
      "text/plain": [
       "3"
      ]
     },
     "execution_count": 16,
     "metadata": {},
     "output_type": "execute_result"
    }
   ],
   "source": [
    "df.duplicated().sum()"
   ]
  },
  {
   "cell_type": "code",
   "execution_count": 17,
   "id": "b63d0775",
   "metadata": {
    "execution": {
     "iopub.execute_input": "2021-10-14T03:13:55.388414Z",
     "iopub.status.busy": "2021-10-14T03:13:55.387478Z",
     "iopub.status.idle": "2021-10-14T03:13:55.392462Z",
     "shell.execute_reply": "2021-10-14T03:13:55.391922Z"
    },
    "papermill": {
     "duration": 0.072791,
     "end_time": "2021-10-14T03:13:55.392588",
     "exception": false,
     "start_time": "2021-10-14T03:13:55.319797",
     "status": "completed"
    },
    "tags": []
   },
   "outputs": [
    {
     "name": "stderr",
     "output_type": "stream",
     "text": [
      "C:\\Users\\Acer\\AppData\\Local\\Temp\\ipykernel_10372\\1665899112.py:1: FutureWarning: Dropping of nuisance columns in DataFrame reductions (with 'numeric_only=None') is deprecated; in a future version this will raise TypeError.  Select only valid columns before calling the reduction.\n",
      "  df.skew()\n"
     ]
    },
    {
     "data": {
      "text/plain": [
       "CodingHours        -0.271667\n",
       "CoffeeCupsPerDay    1.256421\n",
       "dtype: float64"
      ]
     },
     "execution_count": 17,
     "metadata": {},
     "output_type": "execute_result"
    }
   ],
   "source": [
    "df.skew()"
   ]
  },
  {
   "cell_type": "code",
   "execution_count": 18,
   "id": "dd94c0a8",
   "metadata": {
    "execution": {
     "iopub.execute_input": "2021-10-14T03:13:55.524313Z",
     "iopub.status.busy": "2021-10-14T03:13:55.523615Z",
     "iopub.status.idle": "2021-10-14T03:13:55.526679Z",
     "shell.execute_reply": "2021-10-14T03:13:55.526183Z"
    },
    "papermill": {
     "duration": 0.07321,
     "end_time": "2021-10-14T03:13:55.526806",
     "exception": false,
     "start_time": "2021-10-14T03:13:55.453596",
     "status": "completed"
    },
    "tags": []
   },
   "outputs": [
    {
     "data": {
      "text/html": [
       "<div>\n",
       "<style scoped>\n",
       "    .dataframe tbody tr th:only-of-type {\n",
       "        vertical-align: middle;\n",
       "    }\n",
       "\n",
       "    .dataframe tbody tr th {\n",
       "        vertical-align: top;\n",
       "    }\n",
       "\n",
       "    .dataframe thead th {\n",
       "        text-align: right;\n",
       "    }\n",
       "</style>\n",
       "<table border=\"1\" class=\"dataframe\">\n",
       "  <thead>\n",
       "    <tr style=\"text-align: right;\">\n",
       "      <th></th>\n",
       "      <th>CodingHours</th>\n",
       "      <th>CoffeeCupsPerDay</th>\n",
       "    </tr>\n",
       "  </thead>\n",
       "  <tbody>\n",
       "    <tr>\n",
       "      <th>CodingHours</th>\n",
       "      <td>1.000000</td>\n",
       "      <td>0.313692</td>\n",
       "    </tr>\n",
       "    <tr>\n",
       "      <th>CoffeeCupsPerDay</th>\n",
       "      <td>0.313692</td>\n",
       "      <td>1.000000</td>\n",
       "    </tr>\n",
       "  </tbody>\n",
       "</table>\n",
       "</div>"
      ],
      "text/plain": [
       "                  CodingHours  CoffeeCupsPerDay\n",
       "CodingHours          1.000000          0.313692\n",
       "CoffeeCupsPerDay     0.313692          1.000000"
      ]
     },
     "execution_count": 18,
     "metadata": {},
     "output_type": "execute_result"
    }
   ],
   "source": [
    "df.corr()"
   ]
  },
  {
   "cell_type": "markdown",
   "id": "0efa8a30",
   "metadata": {
    "papermill": {
     "duration": 0.061565,
     "end_time": "2021-10-14T03:13:55.649746",
     "exception": false,
     "start_time": "2021-10-14T03:13:55.588181",
     "status": "completed"
    },
    "tags": []
   },
   "source": [
    "# Basic Data Cleaning"
   ]
  },
  {
   "cell_type": "code",
   "execution_count": 19,
   "id": "a51f1937",
   "metadata": {
    "execution": {
     "iopub.execute_input": "2021-10-14T03:13:55.782467Z",
     "iopub.status.busy": "2021-10-14T03:13:55.781806Z",
     "iopub.status.idle": "2021-10-14T03:13:55.783414Z",
     "shell.execute_reply": "2021-10-14T03:13:55.783902Z"
    },
    "papermill": {
     "duration": 0.071904,
     "end_time": "2021-10-14T03:13:55.784069",
     "exception": false,
     "start_time": "2021-10-14T03:13:55.712165",
     "status": "completed"
    },
    "tags": []
   },
   "outputs": [],
   "source": [
    "# Since there are less number of null values we can drop those rows\n",
    "df.dropna(inplace =True)"
   ]
  },
  {
   "cell_type": "code",
   "execution_count": 20,
   "id": "8c932a94",
   "metadata": {
    "execution": {
     "iopub.execute_input": "2021-10-14T03:13:55.912555Z",
     "iopub.status.busy": "2021-10-14T03:13:55.911951Z",
     "iopub.status.idle": "2021-10-14T03:13:55.927771Z",
     "shell.execute_reply": "2021-10-14T03:13:55.927158Z"
    },
    "papermill": {
     "duration": 0.081383,
     "end_time": "2021-10-14T03:13:55.927919",
     "exception": false,
     "start_time": "2021-10-14T03:13:55.846536",
     "status": "completed"
    },
    "tags": []
   },
   "outputs": [
    {
     "data": {
      "text/html": [
       "<div>\n",
       "<style scoped>\n",
       "    .dataframe tbody tr th:only-of-type {\n",
       "        vertical-align: middle;\n",
       "    }\n",
       "\n",
       "    .dataframe tbody tr th {\n",
       "        vertical-align: top;\n",
       "    }\n",
       "\n",
       "    .dataframe thead th {\n",
       "        text-align: right;\n",
       "    }\n",
       "</style>\n",
       "<table border=\"1\" class=\"dataframe\">\n",
       "  <thead>\n",
       "    <tr style=\"text-align: right;\">\n",
       "      <th></th>\n",
       "      <th>CodingHours</th>\n",
       "      <th>CoffeeCupsPerDay</th>\n",
       "      <th>CoffeeTime</th>\n",
       "      <th>CodingWithoutCoffee</th>\n",
       "      <th>CoffeeType</th>\n",
       "      <th>CoffeeSolveBugs</th>\n",
       "      <th>Gender</th>\n",
       "      <th>Country</th>\n",
       "      <th>AgeRange</th>\n",
       "    </tr>\n",
       "  </thead>\n",
       "  <tbody>\n",
       "    <tr>\n",
       "      <th>0</th>\n",
       "      <td>8</td>\n",
       "      <td>2</td>\n",
       "      <td>Before coding</td>\n",
       "      <td>Yes</td>\n",
       "      <td>Caffè latte</td>\n",
       "      <td>Sometimes</td>\n",
       "      <td>Female</td>\n",
       "      <td>Lebanon</td>\n",
       "      <td>18 to 29</td>\n",
       "    </tr>\n",
       "    <tr>\n",
       "      <th>1</th>\n",
       "      <td>3</td>\n",
       "      <td>2</td>\n",
       "      <td>Before coding</td>\n",
       "      <td>Yes</td>\n",
       "      <td>Americano</td>\n",
       "      <td>Yes</td>\n",
       "      <td>Female</td>\n",
       "      <td>Lebanon</td>\n",
       "      <td>30 to 39</td>\n",
       "    </tr>\n",
       "    <tr>\n",
       "      <th>2</th>\n",
       "      <td>5</td>\n",
       "      <td>3</td>\n",
       "      <td>While coding</td>\n",
       "      <td>No</td>\n",
       "      <td>Nescafe</td>\n",
       "      <td>Yes</td>\n",
       "      <td>Female</td>\n",
       "      <td>Lebanon</td>\n",
       "      <td>18 to 29</td>\n",
       "    </tr>\n",
       "    <tr>\n",
       "      <th>4</th>\n",
       "      <td>10</td>\n",
       "      <td>3</td>\n",
       "      <td>While coding</td>\n",
       "      <td>Sometimes</td>\n",
       "      <td>Turkish</td>\n",
       "      <td>No</td>\n",
       "      <td>Male</td>\n",
       "      <td>Lebanon</td>\n",
       "      <td>18 to 29</td>\n",
       "    </tr>\n",
       "    <tr>\n",
       "      <th>5</th>\n",
       "      <td>8</td>\n",
       "      <td>2</td>\n",
       "      <td>While coding</td>\n",
       "      <td>Sometimes</td>\n",
       "      <td>Nescafe</td>\n",
       "      <td>Yes</td>\n",
       "      <td>Male</td>\n",
       "      <td>Lebanon</td>\n",
       "      <td>30 to 39</td>\n",
       "    </tr>\n",
       "    <tr>\n",
       "      <th>...</th>\n",
       "      <td>...</td>\n",
       "      <td>...</td>\n",
       "      <td>...</td>\n",
       "      <td>...</td>\n",
       "      <td>...</td>\n",
       "      <td>...</td>\n",
       "      <td>...</td>\n",
       "      <td>...</td>\n",
       "      <td>...</td>\n",
       "    </tr>\n",
       "    <tr>\n",
       "      <th>95</th>\n",
       "      <td>6</td>\n",
       "      <td>2</td>\n",
       "      <td>Before coding</td>\n",
       "      <td>Yes</td>\n",
       "      <td>Nescafe</td>\n",
       "      <td>Yes</td>\n",
       "      <td>Male</td>\n",
       "      <td>Lebanon</td>\n",
       "      <td>18 to 29</td>\n",
       "    </tr>\n",
       "    <tr>\n",
       "      <th>96</th>\n",
       "      <td>4</td>\n",
       "      <td>1</td>\n",
       "      <td>Before coding</td>\n",
       "      <td>Sometimes</td>\n",
       "      <td>Nescafe</td>\n",
       "      <td>Sometimes</td>\n",
       "      <td>Female</td>\n",
       "      <td>Lebanon</td>\n",
       "      <td>18 to 29</td>\n",
       "    </tr>\n",
       "    <tr>\n",
       "      <th>97</th>\n",
       "      <td>10</td>\n",
       "      <td>3</td>\n",
       "      <td>Before coding</td>\n",
       "      <td>Yes</td>\n",
       "      <td>Cappuccino</td>\n",
       "      <td>Yes</td>\n",
       "      <td>Male</td>\n",
       "      <td>Lebanon</td>\n",
       "      <td>Under 18</td>\n",
       "    </tr>\n",
       "    <tr>\n",
       "      <th>98</th>\n",
       "      <td>2</td>\n",
       "      <td>2</td>\n",
       "      <td>While coding</td>\n",
       "      <td>Sometimes</td>\n",
       "      <td>Espresso (Short Black)</td>\n",
       "      <td>Sometimes</td>\n",
       "      <td>Female</td>\n",
       "      <td>Lebanon</td>\n",
       "      <td>18 to 29</td>\n",
       "    </tr>\n",
       "    <tr>\n",
       "      <th>99</th>\n",
       "      <td>10</td>\n",
       "      <td>4</td>\n",
       "      <td>Before coding</td>\n",
       "      <td>Sometimes</td>\n",
       "      <td>Double Espresso (Doppio)</td>\n",
       "      <td>Sometimes</td>\n",
       "      <td>Male</td>\n",
       "      <td>Lebanon</td>\n",
       "      <td>18 to 29</td>\n",
       "    </tr>\n",
       "  </tbody>\n",
       "</table>\n",
       "<p>97 rows × 9 columns</p>\n",
       "</div>"
      ],
      "text/plain": [
       "    CodingHours  CoffeeCupsPerDay     CoffeeTime CodingWithoutCoffee  \\\n",
       "0             8                 2  Before coding                 Yes   \n",
       "1             3                 2  Before coding                 Yes   \n",
       "2             5                 3   While coding                  No   \n",
       "4            10                 3   While coding           Sometimes   \n",
       "5             8                 2   While coding           Sometimes   \n",
       "..          ...               ...            ...                 ...   \n",
       "95            6                 2  Before coding                 Yes   \n",
       "96            4                 1  Before coding           Sometimes   \n",
       "97           10                 3  Before coding                 Yes   \n",
       "98            2                 2   While coding           Sometimes   \n",
       "99           10                 4  Before coding           Sometimes   \n",
       "\n",
       "                  CoffeeType CoffeeSolveBugs  Gender  Country  AgeRange  \n",
       "0                Caffè latte       Sometimes  Female  Lebanon  18 to 29  \n",
       "1                  Americano             Yes  Female  Lebanon  30 to 39  \n",
       "2                    Nescafe             Yes  Female  Lebanon  18 to 29  \n",
       "4                    Turkish              No    Male  Lebanon  18 to 29  \n",
       "5                    Nescafe             Yes    Male  Lebanon  30 to 39  \n",
       "..                       ...             ...     ...      ...       ...  \n",
       "95                   Nescafe             Yes    Male  Lebanon  18 to 29  \n",
       "96                   Nescafe       Sometimes  Female  Lebanon  18 to 29  \n",
       "97                Cappuccino             Yes    Male  Lebanon  Under 18  \n",
       "98    Espresso (Short Black)       Sometimes  Female  Lebanon  18 to 29  \n",
       "99  Double Espresso (Doppio)       Sometimes    Male  Lebanon  18 to 29  \n",
       "\n",
       "[97 rows x 9 columns]"
      ]
     },
     "execution_count": 20,
     "metadata": {},
     "output_type": "execute_result"
    }
   ],
   "source": [
    "df"
   ]
  },
  {
   "cell_type": "markdown",
   "id": "6df0ef58",
   "metadata": {
    "papermill": {
     "duration": 0.063237,
     "end_time": "2021-10-14T03:13:56.054632",
     "exception": false,
     "start_time": "2021-10-14T03:13:55.991395",
     "status": "completed"
    },
    "tags": []
   },
   "source": [
    "# Data Visualisation Using Autoviz"
   ]
  },
  {
   "cell_type": "code",
   "execution_count": null,
   "id": "be8a1942",
   "metadata": {
    "execution": {
     "iopub.execute_input": "2021-10-14T03:13:56.185064Z",
     "iopub.status.busy": "2021-10-14T03:13:56.184381Z",
     "iopub.status.idle": "2021-10-14T03:14:06.491706Z",
     "shell.execute_reply": "2021-10-14T03:14:06.491201Z"
    },
    "papermill": {
     "duration": 10.374531,
     "end_time": "2021-10-14T03:14:06.491874",
     "exception": false,
     "start_time": "2021-10-14T03:13:56.117343",
     "status": "completed"
    },
    "tags": []
   },
   "outputs": [],
   "source": [
    "! pip install Autoviz"
   ]
  },
  {
   "cell_type": "code",
   "execution_count": null,
   "id": "d74aa0fc",
   "metadata": {
    "execution": {
     "iopub.execute_input": "2021-10-14T03:14:06.643341Z",
     "iopub.status.busy": "2021-10-14T03:14:06.638678Z",
     "iopub.status.idle": "2021-10-14T03:14:15.123246Z",
     "shell.execute_reply": "2021-10-14T03:14:15.122646Z"
    },
    "papermill": {
     "duration": 8.560834,
     "end_time": "2021-10-14T03:14:15.123396",
     "exception": false,
     "start_time": "2021-10-14T03:14:06.562562",
     "status": "completed"
    },
    "tags": []
   },
   "outputs": [],
   "source": [
    "! pip install xlrd"
   ]
  },
  {
   "cell_type": "code",
   "execution_count": null,
   "id": "2643f13a",
   "metadata": {
    "execution": {
     "iopub.execute_input": "2021-10-14T03:14:15.274587Z",
     "iopub.status.busy": "2021-10-14T03:14:15.273994Z",
     "iopub.status.idle": "2021-10-14T03:14:20.596047Z",
     "shell.execute_reply": "2021-10-14T03:14:20.595310Z"
    },
    "papermill": {
     "duration": 5.399966,
     "end_time": "2021-10-14T03:14:20.596235",
     "exception": false,
     "start_time": "2021-10-14T03:14:15.196269",
     "status": "completed"
    },
    "tags": []
   },
   "outputs": [],
   "source": [
    "from autoviz.AutoViz_Class import AutoViz_Class\n",
    "AV = AutoViz_Class()\n",
    "df_av = AV.AutoViz(\"../input/coffee-and-code-dataset/CoffeeAndCodeLT2018 - CoffeeAndCodeLT2018.csv\")"
   ]
  },
  {
   "cell_type": "markdown",
   "id": "326fd1c6",
   "metadata": {
    "papermill": {
     "duration": 0.083632,
     "end_time": "2021-10-14T03:14:20.764536",
     "exception": false,
     "start_time": "2021-10-14T03:14:20.680904",
     "status": "completed"
    },
    "tags": []
   },
   "source": [
    "# Data Visualisation"
   ]
  },
  {
   "cell_type": "code",
   "execution_count": null,
   "id": "1d3b2cc6",
   "metadata": {
    "execution": {
     "iopub.execute_input": "2021-10-14T03:14:20.938251Z",
     "iopub.status.busy": "2021-10-14T03:14:20.937525Z",
     "iopub.status.idle": "2021-10-14T03:14:20.940149Z",
     "shell.execute_reply": "2021-10-14T03:14:20.940625Z"
    },
    "papermill": {
     "duration": 0.093292,
     "end_time": "2021-10-14T03:14:20.940796",
     "exception": false,
     "start_time": "2021-10-14T03:14:20.847504",
     "status": "completed"
    },
    "tags": []
   },
   "outputs": [],
   "source": [
    "df['CodingHours'].value_counts()"
   ]
  },
  {
   "cell_type": "code",
   "execution_count": null,
   "id": "01ae0864",
   "metadata": {
    "execution": {
     "iopub.execute_input": "2021-10-14T03:14:21.144841Z",
     "iopub.status.busy": "2021-10-14T03:14:21.112924Z",
     "iopub.status.idle": "2021-10-14T03:14:21.387898Z",
     "shell.execute_reply": "2021-10-14T03:14:21.387359Z"
    },
    "papermill": {
     "duration": 0.361951,
     "end_time": "2021-10-14T03:14:21.388037",
     "exception": false,
     "start_time": "2021-10-14T03:14:21.026086",
     "status": "completed"
    },
    "tags": []
   },
   "outputs": [],
   "source": [
    "sns.countplot(x = 'CodingHours',data = df)\n",
    "plt.show()"
   ]
  },
  {
   "cell_type": "markdown",
   "id": "5844c749",
   "metadata": {
    "papermill": {
     "duration": 0.084296,
     "end_time": "2021-10-14T03:14:21.557312",
     "exception": false,
     "start_time": "2021-10-14T03:14:21.473016",
     "status": "completed"
    },
    "tags": []
   },
   "source": [
    "#### Most of the people code for 8 hrs"
   ]
  },
  {
   "cell_type": "code",
   "execution_count": null,
   "id": "a625e77f",
   "metadata": {
    "execution": {
     "iopub.execute_input": "2021-10-14T03:14:21.732161Z",
     "iopub.status.busy": "2021-10-14T03:14:21.728411Z",
     "iopub.status.idle": "2021-10-14T03:14:21.735351Z",
     "shell.execute_reply": "2021-10-14T03:14:21.735826Z"
    },
    "papermill": {
     "duration": 0.094455,
     "end_time": "2021-10-14T03:14:21.736007",
     "exception": false,
     "start_time": "2021-10-14T03:14:21.641552",
     "status": "completed"
    },
    "tags": []
   },
   "outputs": [],
   "source": [
    "df['CoffeeCupsPerDay'].value_counts()"
   ]
  },
  {
   "cell_type": "code",
   "execution_count": null,
   "id": "40126855",
   "metadata": {
    "execution": {
     "iopub.execute_input": "2021-10-14T03:14:21.948318Z",
     "iopub.status.busy": "2021-10-14T03:14:21.910079Z",
     "iopub.status.idle": "2021-10-14T03:14:22.163200Z",
     "shell.execute_reply": "2021-10-14T03:14:22.162617Z"
    },
    "papermill": {
     "duration": 0.341795,
     "end_time": "2021-10-14T03:14:22.163355",
     "exception": false,
     "start_time": "2021-10-14T03:14:21.821560",
     "status": "completed"
    },
    "tags": []
   },
   "outputs": [],
   "source": [
    "sns.countplot(x = 'CoffeeCupsPerDay',data = df)\n",
    "plt.show()"
   ]
  },
  {
   "cell_type": "markdown",
   "id": "cfca27c2",
   "metadata": {
    "papermill": {
     "duration": 0.085318,
     "end_time": "2021-10-14T03:14:22.334647",
     "exception": false,
     "start_time": "2021-10-14T03:14:22.249329",
     "status": "completed"
    },
    "tags": []
   },
   "source": [
    "#### Most of the people drink 2 coffees a day"
   ]
  },
  {
   "cell_type": "code",
   "execution_count": null,
   "id": "6a9c6f46",
   "metadata": {
    "execution": {
     "iopub.execute_input": "2021-10-14T03:14:22.513098Z",
     "iopub.status.busy": "2021-10-14T03:14:22.512416Z",
     "iopub.status.idle": "2021-10-14T03:14:22.514886Z",
     "shell.execute_reply": "2021-10-14T03:14:22.515360Z"
    },
    "papermill": {
     "duration": 0.095791,
     "end_time": "2021-10-14T03:14:22.515519",
     "exception": false,
     "start_time": "2021-10-14T03:14:22.419728",
     "status": "completed"
    },
    "tags": []
   },
   "outputs": [],
   "source": [
    "df['CoffeeTime'].value_counts()"
   ]
  },
  {
   "cell_type": "code",
   "execution_count": null,
   "id": "7ce01bdb",
   "metadata": {
    "execution": {
     "iopub.execute_input": "2021-10-14T03:14:22.720253Z",
     "iopub.status.busy": "2021-10-14T03:14:22.690145Z",
     "iopub.status.idle": "2021-10-14T03:14:22.970237Z",
     "shell.execute_reply": "2021-10-14T03:14:22.969674Z"
    },
    "papermill": {
     "duration": 0.369199,
     "end_time": "2021-10-14T03:14:22.970393",
     "exception": false,
     "start_time": "2021-10-14T03:14:22.601194",
     "status": "completed"
    },
    "tags": []
   },
   "outputs": [],
   "source": [
    "sns.set(rc={'figure.figsize':(14,14)})\n",
    "sns.countplot(x = 'CoffeeTime',data = df)\n",
    "plt.show()"
   ]
  },
  {
   "cell_type": "markdown",
   "id": "6fc02e9b",
   "metadata": {
    "papermill": {
     "duration": 0.087707,
     "end_time": "2021-10-14T03:14:23.147635",
     "exception": false,
     "start_time": "2021-10-14T03:14:23.059928",
     "status": "completed"
    },
    "tags": []
   },
   "source": [
    "#### Most of people drink coffee While coding"
   ]
  },
  {
   "cell_type": "code",
   "execution_count": null,
   "id": "017b8be3",
   "metadata": {
    "execution": {
     "iopub.execute_input": "2021-10-14T03:14:23.330668Z",
     "iopub.status.busy": "2021-10-14T03:14:23.329933Z",
     "iopub.status.idle": "2021-10-14T03:14:23.332708Z",
     "shell.execute_reply": "2021-10-14T03:14:23.333202Z"
    },
    "papermill": {
     "duration": 0.097863,
     "end_time": "2021-10-14T03:14:23.333362",
     "exception": false,
     "start_time": "2021-10-14T03:14:23.235499",
     "status": "completed"
    },
    "tags": []
   },
   "outputs": [],
   "source": [
    "df['CodingWithoutCoffee'].value_counts()"
   ]
  },
  {
   "cell_type": "code",
   "execution_count": null,
   "id": "e5676336",
   "metadata": {
    "execution": {
     "iopub.execute_input": "2021-10-14T03:14:23.543497Z",
     "iopub.status.busy": "2021-10-14T03:14:23.534581Z",
     "iopub.status.idle": "2021-10-14T03:14:23.704156Z",
     "shell.execute_reply": "2021-10-14T03:14:23.703661Z"
    },
    "papermill": {
     "duration": 0.283244,
     "end_time": "2021-10-14T03:14:23.704292",
     "exception": false,
     "start_time": "2021-10-14T03:14:23.421048",
     "status": "completed"
    },
    "tags": []
   },
   "outputs": [],
   "source": [
    "sns.set(rc={'figure.figsize':(6,6)})\n",
    "sns.countplot(x = 'CodingWithoutCoffee',data = df)\n",
    "plt.show()"
   ]
  },
  {
   "cell_type": "markdown",
   "id": "bafe50f1",
   "metadata": {
    "papermill": {
     "duration": 0.087669,
     "end_time": "2021-10-14T03:14:23.880903",
     "exception": false,
     "start_time": "2021-10-14T03:14:23.793234",
     "status": "completed"
    },
    "tags": []
   },
   "source": [
    "#### Most of people sometimes code without coffee"
   ]
  },
  {
   "cell_type": "code",
   "execution_count": null,
   "id": "464e2764",
   "metadata": {
    "execution": {
     "iopub.execute_input": "2021-10-14T03:14:24.064988Z",
     "iopub.status.busy": "2021-10-14T03:14:24.064346Z",
     "iopub.status.idle": "2021-10-14T03:14:24.072029Z",
     "shell.execute_reply": "2021-10-14T03:14:24.072604Z"
    },
    "papermill": {
     "duration": 0.102106,
     "end_time": "2021-10-14T03:14:24.072779",
     "exception": false,
     "start_time": "2021-10-14T03:14:23.970673",
     "status": "completed"
    },
    "tags": []
   },
   "outputs": [],
   "source": [
    "df['CoffeeType'].value_counts()"
   ]
  },
  {
   "cell_type": "code",
   "execution_count": null,
   "id": "20a55776",
   "metadata": {
    "execution": {
     "iopub.execute_input": "2021-10-14T03:14:24.256353Z",
     "iopub.status.busy": "2021-10-14T03:14:24.255659Z",
     "iopub.status.idle": "2021-10-14T03:14:24.542292Z",
     "shell.execute_reply": "2021-10-14T03:14:24.541766Z"
    },
    "papermill": {
     "duration": 0.37898,
     "end_time": "2021-10-14T03:14:24.542445",
     "exception": false,
     "start_time": "2021-10-14T03:14:24.163465",
     "status": "completed"
    },
    "tags": []
   },
   "outputs": [],
   "source": [
    "sns.set(rc={'figure.figsize':(15,15)})\n",
    "sns.countplot(x = 'CoffeeType',data = df)\n",
    "plt.show()"
   ]
  },
  {
   "cell_type": "markdown",
   "id": "00f3525d",
   "metadata": {
    "papermill": {
     "duration": 0.089728,
     "end_time": "2021-10-14T03:14:24.721986",
     "exception": false,
     "start_time": "2021-10-14T03:14:24.632258",
     "status": "completed"
    },
    "tags": []
   },
   "source": [
    "#### Most of people drink NEscafe coffee"
   ]
  },
  {
   "cell_type": "code",
   "execution_count": null,
   "id": "abdd65fc",
   "metadata": {
    "execution": {
     "iopub.execute_input": "2021-10-14T03:14:24.912151Z",
     "iopub.status.busy": "2021-10-14T03:14:24.911331Z",
     "iopub.status.idle": "2021-10-14T03:14:24.914993Z",
     "shell.execute_reply": "2021-10-14T03:14:24.914447Z"
    },
    "papermill": {
     "duration": 0.101525,
     "end_time": "2021-10-14T03:14:24.915133",
     "exception": false,
     "start_time": "2021-10-14T03:14:24.813608",
     "status": "completed"
    },
    "tags": []
   },
   "outputs": [],
   "source": [
    "df['CoffeeSolveBugs'].value_counts()"
   ]
  },
  {
   "cell_type": "code",
   "execution_count": null,
   "id": "b89db967",
   "metadata": {
    "execution": {
     "iopub.execute_input": "2021-10-14T03:14:25.099918Z",
     "iopub.status.busy": "2021-10-14T03:14:25.099285Z",
     "iopub.status.idle": "2021-10-14T03:14:25.300055Z",
     "shell.execute_reply": "2021-10-14T03:14:25.299538Z"
    },
    "papermill": {
     "duration": 0.293961,
     "end_time": "2021-10-14T03:14:25.300197",
     "exception": false,
     "start_time": "2021-10-14T03:14:25.006236",
     "status": "completed"
    },
    "tags": []
   },
   "outputs": [],
   "source": [
    "sns.set(rc={'figure.figsize':(6,6)})\n",
    "sns.countplot(x = 'CoffeeSolveBugs',data = df)\n",
    "plt.show()"
   ]
  },
  {
   "cell_type": "markdown",
   "id": "72411bec",
   "metadata": {
    "papermill": {
     "duration": 0.091175,
     "end_time": "2021-10-14T03:14:25.482320",
     "exception": false,
     "start_time": "2021-10-14T03:14:25.391145",
     "status": "completed"
    },
    "tags": []
   },
   "source": [
    "#### Most of the people sometimes solved bugs while drinking coffee"
   ]
  },
  {
   "cell_type": "code",
   "execution_count": null,
   "id": "eb2f0208",
   "metadata": {
    "execution": {
     "iopub.execute_input": "2021-10-14T03:14:25.671707Z",
     "iopub.status.busy": "2021-10-14T03:14:25.670842Z",
     "iopub.status.idle": "2021-10-14T03:14:25.674629Z",
     "shell.execute_reply": "2021-10-14T03:14:25.675195Z"
    },
    "papermill": {
     "duration": 0.101808,
     "end_time": "2021-10-14T03:14:25.675362",
     "exception": false,
     "start_time": "2021-10-14T03:14:25.573554",
     "status": "completed"
    },
    "tags": []
   },
   "outputs": [],
   "source": [
    "df['Gender'].value_counts()"
   ]
  },
  {
   "cell_type": "code",
   "execution_count": null,
   "id": "f4d43216",
   "metadata": {
    "execution": {
     "iopub.execute_input": "2021-10-14T03:14:25.888245Z",
     "iopub.status.busy": "2021-10-14T03:14:25.887221Z",
     "iopub.status.idle": "2021-10-14T03:14:26.054992Z",
     "shell.execute_reply": "2021-10-14T03:14:26.055479Z"
    },
    "papermill": {
     "duration": 0.286169,
     "end_time": "2021-10-14T03:14:26.055680",
     "exception": false,
     "start_time": "2021-10-14T03:14:25.769511",
     "status": "completed"
    },
    "tags": []
   },
   "outputs": [],
   "source": [
    "sns.countplot(x = 'Gender',data = df)\n",
    "plt.show()"
   ]
  },
  {
   "cell_type": "markdown",
   "id": "1b1d7bc0",
   "metadata": {
    "papermill": {
     "duration": 0.102714,
     "end_time": "2021-10-14T03:14:26.254338",
     "exception": false,
     "start_time": "2021-10-14T03:14:26.151624",
     "status": "completed"
    },
    "tags": []
   },
   "source": [
    "#### Data consists most of males"
   ]
  },
  {
   "cell_type": "code",
   "execution_count": null,
   "id": "5ba2b0c3",
   "metadata": {
    "execution": {
     "iopub.execute_input": "2021-10-14T03:14:26.497123Z",
     "iopub.status.busy": "2021-10-14T03:14:26.492426Z",
     "iopub.status.idle": "2021-10-14T03:14:26.501308Z",
     "shell.execute_reply": "2021-10-14T03:14:26.500665Z"
    },
    "papermill": {
     "duration": 0.144772,
     "end_time": "2021-10-14T03:14:26.501541",
     "exception": false,
     "start_time": "2021-10-14T03:14:26.356769",
     "status": "completed"
    },
    "tags": []
   },
   "outputs": [],
   "source": [
    "df['Country'].value_counts()"
   ]
  },
  {
   "cell_type": "code",
   "execution_count": null,
   "id": "7d0aed47",
   "metadata": {
    "execution": {
     "iopub.execute_input": "2021-10-14T03:14:26.710673Z",
     "iopub.status.busy": "2021-10-14T03:14:26.709707Z",
     "iopub.status.idle": "2021-10-14T03:14:26.880583Z",
     "shell.execute_reply": "2021-10-14T03:14:26.881320Z"
    },
    "papermill": {
     "duration": 0.270799,
     "end_time": "2021-10-14T03:14:26.881505",
     "exception": false,
     "start_time": "2021-10-14T03:14:26.610706",
     "status": "completed"
    },
    "tags": []
   },
   "outputs": [],
   "source": [
    "sns.countplot(x = 'Country',data = df)\n",
    "plt.show()"
   ]
  },
  {
   "cell_type": "markdown",
   "id": "4fc6a79b",
   "metadata": {
    "papermill": {
     "duration": 0.098884,
     "end_time": "2021-10-14T03:14:27.077089",
     "exception": false,
     "start_time": "2021-10-14T03:14:26.978205",
     "status": "completed"
    },
    "tags": []
   },
   "source": [
    "#### This data is from only one country i.e., LEbanon"
   ]
  },
  {
   "cell_type": "code",
   "execution_count": null,
   "id": "8efe07fb",
   "metadata": {
    "execution": {
     "iopub.execute_input": "2021-10-14T03:14:27.277230Z",
     "iopub.status.busy": "2021-10-14T03:14:27.272662Z",
     "iopub.status.idle": "2021-10-14T03:14:27.279337Z",
     "shell.execute_reply": "2021-10-14T03:14:27.279848Z"
    },
    "papermill": {
     "duration": 0.106136,
     "end_time": "2021-10-14T03:14:27.280040",
     "exception": false,
     "start_time": "2021-10-14T03:14:27.173904",
     "status": "completed"
    },
    "tags": []
   },
   "outputs": [],
   "source": [
    "df['AgeRange'].value_counts()"
   ]
  },
  {
   "cell_type": "code",
   "execution_count": null,
   "id": "d49ad423",
   "metadata": {
    "execution": {
     "iopub.execute_input": "2021-10-14T03:14:27.473807Z",
     "iopub.status.busy": "2021-10-14T03:14:27.473220Z",
     "iopub.status.idle": "2021-10-14T03:14:27.691892Z",
     "shell.execute_reply": "2021-10-14T03:14:27.692377Z"
    },
    "papermill": {
     "duration": 0.316573,
     "end_time": "2021-10-14T03:14:27.692564",
     "exception": false,
     "start_time": "2021-10-14T03:14:27.375991",
     "status": "completed"
    },
    "tags": []
   },
   "outputs": [],
   "source": [
    "sns.countplot(x = 'AgeRange',data = df)\n",
    "plt.show()"
   ]
  },
  {
   "cell_type": "markdown",
   "id": "814d555e",
   "metadata": {
    "papermill": {
     "duration": 0.094672,
     "end_time": "2021-10-14T03:14:27.883087",
     "exception": false,
     "start_time": "2021-10-14T03:14:27.788415",
     "status": "completed"
    },
    "tags": []
   },
   "source": [
    "#### Most of people who code are between age 18-29"
   ]
  },
  {
   "cell_type": "code",
   "execution_count": null,
   "id": "6a977271",
   "metadata": {
    "execution": {
     "iopub.execute_input": "2021-10-14T03:14:28.078552Z",
     "iopub.status.busy": "2021-10-14T03:14:28.077986Z",
     "iopub.status.idle": "2021-10-14T03:14:28.242545Z",
     "shell.execute_reply": "2021-10-14T03:14:28.243085Z"
    },
    "papermill": {
     "duration": 0.264129,
     "end_time": "2021-10-14T03:14:28.243273",
     "exception": false,
     "start_time": "2021-10-14T03:14:27.979144",
     "status": "completed"
    },
    "tags": []
   },
   "outputs": [],
   "source": [
    "sns.set(rc={'figure.figsize':(6,6)})\n",
    "data=df.copy()\n",
    "data.groupby('CodingWithoutCoffee')['CodingHours'].mean().plot.bar()\n",
    "plt.xlabel('CodingWithoutCoffee')\n",
    "plt.ylabel('CodingHours')\n",
    "plt.title('CodingWithoutCoffee')\n",
    "plt.show()"
   ]
  },
  {
   "cell_type": "code",
   "execution_count": null,
   "id": "dca85acd",
   "metadata": {
    "execution": {
     "iopub.execute_input": "2021-10-14T03:14:28.444204Z",
     "iopub.status.busy": "2021-10-14T03:14:28.443557Z",
     "iopub.status.idle": "2021-10-14T03:14:28.681792Z",
     "shell.execute_reply": "2021-10-14T03:14:28.681184Z"
    },
    "papermill": {
     "duration": 0.340614,
     "end_time": "2021-10-14T03:14:28.681943",
     "exception": false,
     "start_time": "2021-10-14T03:14:28.341329",
     "status": "completed"
    },
    "tags": []
   },
   "outputs": [],
   "source": [
    "sns.set(rc={'figure.figsize':(6,6)})\n",
    "data=df.copy()\n",
    "data.groupby('CoffeeType')['CodingHours'].mean().plot.bar()\n",
    "plt.xlabel('CoffeeType')\n",
    "plt.ylabel('CodingHours')\n",
    "plt.title('CoffeeType')\n",
    "plt.show()"
   ]
  },
  {
   "cell_type": "code",
   "execution_count": null,
   "id": "18709791",
   "metadata": {
    "execution": {
     "iopub.execute_input": "2021-10-14T03:14:28.882090Z",
     "iopub.status.busy": "2021-10-14T03:14:28.881349Z",
     "iopub.status.idle": "2021-10-14T03:14:29.223555Z",
     "shell.execute_reply": "2021-10-14T03:14:29.224031Z"
    },
    "papermill": {
     "duration": 0.444438,
     "end_time": "2021-10-14T03:14:29.224191",
     "exception": false,
     "start_time": "2021-10-14T03:14:28.779753",
     "status": "completed"
    },
    "tags": []
   },
   "outputs": [],
   "source": [
    "sns.set(rc={'figure.figsize':(6,6)})\n",
    "data=df.copy()\n",
    "data.groupby('CoffeeSolveBugs')['CodingHours'].mean().plot.bar()\n",
    "plt.xlabel('CoffeeSolveBugs')\n",
    "plt.ylabel('CodingHours')\n",
    "plt.title('CoffeeSolveBugs')\n",
    "plt.show()"
   ]
  },
  {
   "cell_type": "code",
   "execution_count": null,
   "id": "3d4c0633",
   "metadata": {
    "execution": {
     "iopub.execute_input": "2021-10-14T03:14:29.472959Z",
     "iopub.status.busy": "2021-10-14T03:14:29.472320Z",
     "iopub.status.idle": "2021-10-14T03:14:29.622437Z",
     "shell.execute_reply": "2021-10-14T03:14:29.623313Z"
    },
    "papermill": {
     "duration": 0.301133,
     "end_time": "2021-10-14T03:14:29.623581",
     "exception": false,
     "start_time": "2021-10-14T03:14:29.322448",
     "status": "completed"
    },
    "tags": []
   },
   "outputs": [],
   "source": [
    "sns.set(rc={'figure.figsize':(6,6)})\n",
    "data=df.copy()\n",
    "data.groupby('Gender')['CodingHours'].mean().plot.bar()\n",
    "plt.xlabel('Gender')\n",
    "plt.ylabel('CodingHours')\n",
    "plt.title('Gender')\n",
    "plt.show()\n",
    "\n",
    "# Male code more than females"
   ]
  },
  {
   "cell_type": "code",
   "execution_count": null,
   "id": "4efc90b9",
   "metadata": {
    "execution": {
     "iopub.execute_input": "2021-10-14T03:14:29.834106Z",
     "iopub.status.busy": "2021-10-14T03:14:29.833431Z",
     "iopub.status.idle": "2021-10-14T03:14:30.014595Z",
     "shell.execute_reply": "2021-10-14T03:14:30.014058Z"
    },
    "papermill": {
     "duration": 0.288044,
     "end_time": "2021-10-14T03:14:30.014732",
     "exception": false,
     "start_time": "2021-10-14T03:14:29.726688",
     "status": "completed"
    },
    "tags": []
   },
   "outputs": [],
   "source": [
    "sns.set(rc={'figure.figsize':(6,6)})\n",
    "data=df.copy()\n",
    "data.groupby('AgeRange')['CodingHours'].mean().plot.bar()\n",
    "plt.xlabel('AgeRange')\n",
    "plt.ylabel('CodingHours')\n",
    "plt.title('AgeRange')\n",
    "plt.show()\n",
    "\n",
    "# under 18 age people code more"
   ]
  },
  {
   "cell_type": "code",
   "execution_count": null,
   "id": "9dcc45bc",
   "metadata": {
    "execution": {
     "iopub.execute_input": "2021-10-14T03:14:30.232417Z",
     "iopub.status.busy": "2021-10-14T03:14:30.231727Z",
     "iopub.status.idle": "2021-10-14T03:14:30.234306Z",
     "shell.execute_reply": "2021-10-14T03:14:30.234781Z"
    },
    "papermill": {
     "duration": 0.118726,
     "end_time": "2021-10-14T03:14:30.234960",
     "exception": false,
     "start_time": "2021-10-14T03:14:30.116234",
     "status": "completed"
    },
    "tags": []
   },
   "outputs": [],
   "source": [
    "df1 = df.groupby('CoffeeTime').agg({'CoffeeCupsPerDay' :'mean'})\n",
    "df1"
   ]
  },
  {
   "cell_type": "code",
   "execution_count": null,
   "id": "225bc26c",
   "metadata": {
    "execution": {
     "iopub.execute_input": "2021-10-14T03:14:30.444085Z",
     "iopub.status.busy": "2021-10-14T03:14:30.442180Z",
     "iopub.status.idle": "2021-10-14T03:14:31.370370Z",
     "shell.execute_reply": "2021-10-14T03:14:31.369823Z"
    },
    "papermill": {
     "duration": 1.033113,
     "end_time": "2021-10-14T03:14:31.370553",
     "exception": false,
     "start_time": "2021-10-14T03:14:30.337440",
     "status": "completed"
    },
    "tags": []
   },
   "outputs": [],
   "source": [
    "px.bar(data_frame=df1, barmode='group',\n",
    "       title = \"<b>Coffee Time wise Analyzing</b>\",template=\"plotly_dark\")"
   ]
  },
  {
   "cell_type": "markdown",
   "id": "bcee86e2",
   "metadata": {
    "papermill": {
     "duration": 0.106101,
     "end_time": "2021-10-14T03:14:31.583355",
     "exception": false,
     "start_time": "2021-10-14T03:14:31.477254",
     "status": "completed"
    },
    "tags": []
   },
   "source": [
    "#### In the morning and before coding people will not drink more cups of coffee"
   ]
  },
  {
   "cell_type": "code",
   "execution_count": null,
   "id": "a8117f38",
   "metadata": {
    "execution": {
     "iopub.execute_input": "2021-10-14T03:14:31.793505Z",
     "iopub.status.busy": "2021-10-14T03:14:31.792820Z",
     "iopub.status.idle": "2021-10-14T03:14:31.801782Z",
     "shell.execute_reply": "2021-10-14T03:14:31.802350Z"
    },
    "papermill": {
     "duration": 0.116251,
     "end_time": "2021-10-14T03:14:31.802524",
     "exception": false,
     "start_time": "2021-10-14T03:14:31.686273",
     "status": "completed"
    },
    "tags": []
   },
   "outputs": [],
   "source": [
    "df2 = df.groupby('CodingWithoutCoffee').agg({'CodingHours':'mean','CoffeeCupsPerDay' :'mean'})\n",
    "df2"
   ]
  },
  {
   "cell_type": "code",
   "execution_count": null,
   "id": "2580c192",
   "metadata": {
    "execution": {
     "iopub.execute_input": "2021-10-14T03:14:32.082735Z",
     "iopub.status.busy": "2021-10-14T03:14:32.034834Z",
     "iopub.status.idle": "2021-10-14T03:14:32.094685Z",
     "shell.execute_reply": "2021-10-14T03:14:32.094106Z"
    },
    "papermill": {
     "duration": 0.18692,
     "end_time": "2021-10-14T03:14:32.094845",
     "exception": false,
     "start_time": "2021-10-14T03:14:31.907925",
     "status": "completed"
    },
    "tags": []
   },
   "outputs": [],
   "source": [
    "px.bar(data_frame=df2, barmode='group',\n",
    "       title = \"<b>Coffee Time wise Analyzing</b>\",template=\"plotly_dark\")"
   ]
  },
  {
   "cell_type": "markdown",
   "id": "229ed85d",
   "metadata": {
    "papermill": {
     "duration": 0.107901,
     "end_time": "2021-10-14T03:14:32.311433",
     "exception": false,
     "start_time": "2021-10-14T03:14:32.203532",
     "status": "completed"
    },
    "tags": []
   },
   "source": [
    "#### Most of the people code with coffee"
   ]
  },
  {
   "cell_type": "code",
   "execution_count": null,
   "id": "b05ccf1c",
   "metadata": {
    "execution": {
     "iopub.execute_input": "2021-10-14T03:14:32.541923Z",
     "iopub.status.busy": "2021-10-14T03:14:32.541094Z",
     "iopub.status.idle": "2021-10-14T03:14:32.545094Z",
     "shell.execute_reply": "2021-10-14T03:14:32.544519Z"
    },
    "papermill": {
     "duration": 0.124647,
     "end_time": "2021-10-14T03:14:32.545230",
     "exception": false,
     "start_time": "2021-10-14T03:14:32.420583",
     "status": "completed"
    },
    "tags": []
   },
   "outputs": [],
   "source": [
    "df3 = df.groupby('CoffeeType').agg({'CodingHours':'mean','CoffeeCupsPerDay' :'mean'})\n",
    "df3"
   ]
  },
  {
   "cell_type": "code",
   "execution_count": null,
   "id": "74304e73",
   "metadata": {
    "execution": {
     "iopub.execute_input": "2021-10-14T03:14:32.778729Z",
     "iopub.status.busy": "2021-10-14T03:14:32.769400Z",
     "iopub.status.idle": "2021-10-14T03:14:32.839155Z",
     "shell.execute_reply": "2021-10-14T03:14:32.838107Z"
    },
    "papermill": {
     "duration": 0.189048,
     "end_time": "2021-10-14T03:14:32.839313",
     "exception": false,
     "start_time": "2021-10-14T03:14:32.650265",
     "status": "completed"
    },
    "tags": []
   },
   "outputs": [],
   "source": [
    "px.bar(data_frame=df3, barmode='group',\n",
    "       title = \"<b>Coffee Time wise Analyzing</b>\",template=\"plotly_dark\")"
   ]
  },
  {
   "cell_type": "markdown",
   "id": "3b009b99",
   "metadata": {
    "papermill": {
     "duration": 0.108467,
     "end_time": "2021-10-14T03:14:33.054468",
     "exception": false,
     "start_time": "2021-10-14T03:14:32.946001",
     "status": "completed"
    },
    "tags": []
   },
   "source": [
    "#### Most of the people drink Double Espresso (Doppio) about average of 5 cups a day while coding"
   ]
  },
  {
   "cell_type": "code",
   "execution_count": null,
   "id": "3d916b03",
   "metadata": {
    "execution": {
     "iopub.execute_input": "2021-10-14T03:14:33.281845Z",
     "iopub.status.busy": "2021-10-14T03:14:33.281062Z",
     "iopub.status.idle": "2021-10-14T03:14:33.284464Z",
     "shell.execute_reply": "2021-10-14T03:14:33.284947Z"
    },
    "papermill": {
     "duration": 0.122938,
     "end_time": "2021-10-14T03:14:33.285111",
     "exception": false,
     "start_time": "2021-10-14T03:14:33.162173",
     "status": "completed"
    },
    "tags": []
   },
   "outputs": [],
   "source": [
    "df4 = df.groupby('CoffeeSolveBugs').agg({'CodingHours':'mean','CoffeeCupsPerDay' :'mean'})\n",
    "df4"
   ]
  },
  {
   "cell_type": "code",
   "execution_count": null,
   "id": "6d2a09f4",
   "metadata": {
    "execution": {
     "iopub.execute_input": "2021-10-14T03:14:33.549132Z",
     "iopub.status.busy": "2021-10-14T03:14:33.543912Z",
     "iopub.status.idle": "2021-10-14T03:14:33.578195Z",
     "shell.execute_reply": "2021-10-14T03:14:33.577682Z"
    },
    "papermill": {
     "duration": 0.186517,
     "end_time": "2021-10-14T03:14:33.578359",
     "exception": false,
     "start_time": "2021-10-14T03:14:33.391842",
     "status": "completed"
    },
    "tags": []
   },
   "outputs": [],
   "source": [
    "px.bar(data_frame=df4, barmode='group',\n",
    "       title = \"<b>Coffee Time wise Analyzing</b>\",template=\"plotly_dark\")"
   ]
  },
  {
   "cell_type": "markdown",
   "id": "d6b572ea",
   "metadata": {
    "papermill": {
     "duration": 0.107567,
     "end_time": "2021-10-14T03:14:33.793712",
     "exception": false,
     "start_time": "2021-10-14T03:14:33.686145",
     "status": "completed"
    },
    "tags": []
   },
   "source": [
    "#### Most of the times coffee solve bugs"
   ]
  },
  {
   "cell_type": "code",
   "execution_count": null,
   "id": "30e71d39",
   "metadata": {
    "execution": {
     "iopub.execute_input": "2021-10-14T03:14:34.024288Z",
     "iopub.status.busy": "2021-10-14T03:14:34.023262Z",
     "iopub.status.idle": "2021-10-14T03:14:34.027463Z",
     "shell.execute_reply": "2021-10-14T03:14:34.026851Z"
    },
    "papermill": {
     "duration": 0.126795,
     "end_time": "2021-10-14T03:14:34.027599",
     "exception": false,
     "start_time": "2021-10-14T03:14:33.900804",
     "status": "completed"
    },
    "tags": []
   },
   "outputs": [],
   "source": [
    "df5 = df.groupby('Gender').agg({'CodingHours':'mean','CoffeeCupsPerDay' :'mean'})\n",
    "df5"
   ]
  },
  {
   "cell_type": "code",
   "execution_count": null,
   "id": "3cc07d18",
   "metadata": {
    "execution": {
     "iopub.execute_input": "2021-10-14T03:14:34.321839Z",
     "iopub.status.busy": "2021-10-14T03:14:34.310308Z",
     "iopub.status.idle": "2021-10-14T03:14:34.329050Z",
     "shell.execute_reply": "2021-10-14T03:14:34.328516Z"
    },
    "papermill": {
     "duration": 0.188416,
     "end_time": "2021-10-14T03:14:34.329195",
     "exception": false,
     "start_time": "2021-10-14T03:14:34.140779",
     "status": "completed"
    },
    "tags": []
   },
   "outputs": [],
   "source": [
    "px.bar(data_frame=df5, barmode='group',\n",
    "       title = \"<b>Coffee Time wise Analyzing</b>\",template=\"plotly_dark\")"
   ]
  },
  {
   "cell_type": "markdown",
   "id": "dbe0bad7",
   "metadata": {
    "papermill": {
     "duration": 0.107606,
     "end_time": "2021-10-14T03:14:34.546019",
     "exception": false,
     "start_time": "2021-10-14T03:14:34.438413",
     "status": "completed"
    },
    "tags": []
   },
   "source": [
    "#### Male code more and males drink more coffe cups per day"
   ]
  },
  {
   "cell_type": "code",
   "execution_count": null,
   "id": "d738a8ff",
   "metadata": {
    "execution": {
     "iopub.execute_input": "2021-10-14T03:14:34.775798Z",
     "iopub.status.busy": "2021-10-14T03:14:34.775176Z",
     "iopub.status.idle": "2021-10-14T03:14:34.777723Z",
     "shell.execute_reply": "2021-10-14T03:14:34.778276Z"
    },
    "papermill": {
     "duration": 0.12355,
     "end_time": "2021-10-14T03:14:34.778441",
     "exception": false,
     "start_time": "2021-10-14T03:14:34.654891",
     "status": "completed"
    },
    "tags": []
   },
   "outputs": [],
   "source": [
    "df6 = df.groupby('AgeRange').agg({'CodingHours':'mean','CoffeeCupsPerDay' :'mean'})\n",
    "df6"
   ]
  },
  {
   "cell_type": "code",
   "execution_count": null,
   "id": "930ff497",
   "metadata": {
    "execution": {
     "iopub.execute_input": "2021-10-14T03:14:35.002220Z",
     "iopub.status.busy": "2021-10-14T03:14:35.001560Z",
     "iopub.status.idle": "2021-10-14T03:14:35.074611Z",
     "shell.execute_reply": "2021-10-14T03:14:35.074041Z"
    },
    "papermill": {
     "duration": 0.187004,
     "end_time": "2021-10-14T03:14:35.074742",
     "exception": false,
     "start_time": "2021-10-14T03:14:34.887738",
     "status": "completed"
    },
    "tags": []
   },
   "outputs": [],
   "source": [
    "px.bar(data_frame=df6, barmode='group',\n",
    "       title = \"<b>Coffee Type wise Analyzing</b>\",template=\"plotly_dark\")"
   ]
  },
  {
   "cell_type": "markdown",
   "id": "6187b123",
   "metadata": {
    "papermill": {
     "duration": 0.110326,
     "end_time": "2021-10-14T03:14:35.295267",
     "exception": false,
     "start_time": "2021-10-14T03:14:35.184941",
     "status": "completed"
    },
    "tags": []
   },
   "source": [
    "#### Under 18 age code more hours and between age 40-49 drink more cups of coffee per day"
   ]
  },
  {
   "cell_type": "code",
   "execution_count": null,
   "id": "d2111483",
   "metadata": {
    "execution": {
     "iopub.execute_input": "2021-10-14T03:14:35.527807Z",
     "iopub.status.busy": "2021-10-14T03:14:35.524739Z",
     "iopub.status.idle": "2021-10-14T03:14:35.589950Z",
     "shell.execute_reply": "2021-10-14T03:14:35.589425Z"
    },
    "papermill": {
     "duration": 0.184738,
     "end_time": "2021-10-14T03:14:35.590086",
     "exception": false,
     "start_time": "2021-10-14T03:14:35.405348",
     "status": "completed"
    },
    "tags": []
   },
   "outputs": [],
   "source": [
    "px.bar(data_frame=df, x = 'CoffeeType' ,y = 'CoffeeCupsPerDay',color = 'Gender',\n",
    "       title = \"<b>Coffee Type wise Analyzing</b>\",template=\"plotly_dark\")"
   ]
  },
  {
   "cell_type": "markdown",
   "id": "6135365e",
   "metadata": {
    "papermill": {
     "duration": 0.113207,
     "end_time": "2021-10-14T03:14:35.816844",
     "exception": false,
     "start_time": "2021-10-14T03:14:35.703637",
     "status": "completed"
    },
    "tags": []
   },
   "source": [
    "#### Americano is only drink by females\n",
    "#### Double Espresso, cappuccino is only drink by male"
   ]
  },
  {
   "cell_type": "code",
   "execution_count": null,
   "id": "8b479fe9",
   "metadata": {
    "execution": {
     "iopub.execute_input": "2021-10-14T03:14:36.060761Z",
     "iopub.status.busy": "2021-10-14T03:14:36.060053Z",
     "iopub.status.idle": "2021-10-14T03:14:36.131449Z",
     "shell.execute_reply": "2021-10-14T03:14:36.132008Z"
    },
    "papermill": {
     "duration": 0.202391,
     "end_time": "2021-10-14T03:14:36.132204",
     "exception": false,
     "start_time": "2021-10-14T03:14:35.929813",
     "status": "completed"
    },
    "tags": []
   },
   "outputs": [],
   "source": [
    "px.bar(data_frame=df, x = 'CoffeeType' ,y = 'CoffeeCupsPerDay',color = 'AgeRange',\n",
    "       title = \"<b>Coffee Type wise Analyzing</b>\",template=\"plotly_dark\")"
   ]
  },
  {
   "cell_type": "markdown",
   "id": "cc86cb59",
   "metadata": {
    "papermill": {
     "duration": 0.115015,
     "end_time": "2021-10-14T03:14:36.360229",
     "exception": false,
     "start_time": "2021-10-14T03:14:36.245214",
     "status": "completed"
    },
    "tags": []
   },
   "source": [
    "#### Americano is only drink by people between age 30-39\n",
    "#### caffe latte is only drink by people between age 18-29\n",
    "#### people between age 18-29 drinks all types of coffee expect americano\n",
    "#### Under age 18 people drink only cappuccino\n",
    "#### Nescafe coffee is only drink by people between age 18-39"
   ]
  },
  {
   "cell_type": "code",
   "execution_count": null,
   "id": "31c16f75",
   "metadata": {
    "execution": {
     "iopub.execute_input": "2021-10-14T03:14:36.590760Z",
     "iopub.status.busy": "2021-10-14T03:14:36.590017Z",
     "iopub.status.idle": "2021-10-14T03:14:36.664880Z",
     "shell.execute_reply": "2021-10-14T03:14:36.664344Z"
    },
    "papermill": {
     "duration": 0.191719,
     "end_time": "2021-10-14T03:14:36.665027",
     "exception": false,
     "start_time": "2021-10-14T03:14:36.473308",
     "status": "completed"
    },
    "tags": []
   },
   "outputs": [],
   "source": [
    "px.bar(data_frame=df, x = 'CoffeeType' ,y = 'CoffeeCupsPerDay',color = 'CodingWithoutCoffee',\n",
    "       title = \"<b>Coffee Type wise Analyzing</b>\",template=\"plotly_dark\")"
   ]
  },
  {
   "cell_type": "markdown",
   "id": "bebf5a15",
   "metadata": {
    "papermill": {
     "duration": 0.113674,
     "end_time": "2021-10-14T03:14:36.892115",
     "exception": false,
     "start_time": "2021-10-14T03:14:36.778441",
     "status": "completed"
    },
    "tags": []
   },
   "source": [
    "#### Double expresso is the only coffee drink by people while coding"
   ]
  },
  {
   "cell_type": "markdown",
   "id": "adf3b6d5",
   "metadata": {
    "papermill": {
     "duration": 0.115035,
     "end_time": "2021-10-14T03:14:37.122663",
     "exception": false,
     "start_time": "2021-10-14T03:14:37.007628",
     "status": "completed"
    },
    "tags": []
   },
   "source": [
    "# (IMPORTANT) Advanced Visualisation"
   ]
  },
  {
   "cell_type": "markdown",
   "id": "c1c4674c",
   "metadata": {
    "papermill": {
     "duration": 0.116651,
     "end_time": "2021-10-14T03:14:37.352985",
     "exception": false,
     "start_time": "2021-10-14T03:14:37.236334",
     "status": "completed"
    },
    "tags": []
   },
   "source": [
    "## Getting unique values of each category"
   ]
  },
  {
   "cell_type": "code",
   "execution_count": null,
   "id": "7ea7093f",
   "metadata": {
    "execution": {
     "iopub.execute_input": "2021-10-14T03:14:37.616958Z",
     "iopub.status.busy": "2021-10-14T03:14:37.616231Z",
     "iopub.status.idle": "2021-10-14T03:14:37.618223Z",
     "shell.execute_reply": "2021-10-14T03:14:37.618656Z"
    },
    "papermill": {
     "duration": 0.123856,
     "end_time": "2021-10-14T03:14:37.618822",
     "exception": false,
     "start_time": "2021-10-14T03:14:37.494966",
     "status": "completed"
    },
    "tags": []
   },
   "outputs": [],
   "source": [
    "from IPython.core.display import HTML\n",
    "\n",
    "def multi_table(table_list):\n",
    "    ''' Acceps a list of IpyTable objects and returns a table which contains each IpyTable in a cell\n",
    "    '''\n",
    "    return HTML(\n",
    "        '<table><tr style=\"background-color:white;\">' + \n",
    "        ''.join(['<td>' + table._repr_html_() + '</td>' for table in table_list]) +\n",
    "        '</tr></table>')"
   ]
  },
  {
   "cell_type": "code",
   "execution_count": null,
   "id": "9904e595",
   "metadata": {
    "execution": {
     "iopub.execute_input": "2021-10-14T03:14:37.850082Z",
     "iopub.status.busy": "2021-10-14T03:14:37.849432Z",
     "iopub.status.idle": "2021-10-14T03:14:37.868705Z",
     "shell.execute_reply": "2021-10-14T03:14:37.868090Z"
    },
    "papermill": {
     "duration": 0.136671,
     "end_time": "2021-10-14T03:14:37.868877",
     "exception": false,
     "start_time": "2021-10-14T03:14:37.732206",
     "status": "completed"
    },
    "tags": []
   },
   "outputs": [],
   "source": [
    "df_nunique = {var: pd.DataFrame(df[var].value_counts()) \n",
    "              for var in {'CoffeeTime', 'CodingWithoutCoffee',\n",
    "       'CoffeeType', 'CoffeeSolveBugs', 'Gender', 'Country', 'AgeRange'}}\n",
    "multi_table([df_nunique['CoffeeTime'], df_nunique['CodingWithoutCoffee'],df_nunique['CoffeeType'],df_nunique['CoffeeSolveBugs']\n",
    "            ,df_nunique['Gender'],df_nunique['Gender'],df_nunique['AgeRange']])"
   ]
  },
  {
   "cell_type": "code",
   "execution_count": null,
   "id": "293db581",
   "metadata": {
    "execution": {
     "iopub.execute_input": "2021-10-14T03:14:38.108811Z",
     "iopub.status.busy": "2021-10-14T03:14:38.108166Z",
     "iopub.status.idle": "2021-10-14T03:14:38.139814Z",
     "shell.execute_reply": "2021-10-14T03:14:38.140363Z"
    },
    "papermill": {
     "duration": 0.153173,
     "end_time": "2021-10-14T03:14:38.140530",
     "exception": false,
     "start_time": "2021-10-14T03:14:37.987357",
     "status": "completed"
    },
    "tags": []
   },
   "outputs": [],
   "source": [
    "df_groupby = {var: pd.DataFrame(df.groupby([var, 'CodingHours']).size()) \n",
    "              for var in {'CoffeeTime', 'CodingWithoutCoffee',\n",
    "       'CoffeeType', 'CoffeeSolveBugs', 'Gender', 'Country', 'AgeRange'}}\n",
    "multi_table([df_groupby['CoffeeTime'], df_groupby['CodingWithoutCoffee'],df_groupby['CoffeeType'],df_groupby['CoffeeSolveBugs']\n",
    "            ,df_groupby['Gender'],df_groupby['Gender'],df_groupby['AgeRange']])"
   ]
  },
  {
   "cell_type": "code",
   "execution_count": null,
   "id": "ccba4824",
   "metadata": {
    "execution": {
     "iopub.execute_input": "2021-10-14T03:14:38.380681Z",
     "iopub.status.busy": "2021-10-14T03:14:38.380018Z",
     "iopub.status.idle": "2021-10-14T03:14:38.406015Z",
     "shell.execute_reply": "2021-10-14T03:14:38.406508Z"
    },
    "papermill": {
     "duration": 0.149227,
     "end_time": "2021-10-14T03:14:38.406675",
     "exception": false,
     "start_time": "2021-10-14T03:14:38.257448",
     "status": "completed"
    },
    "tags": []
   },
   "outputs": [],
   "source": [
    "df_groupby = {var: pd.DataFrame(df.groupby([var, 'CoffeeCupsPerDay']).size()) \n",
    "              for var in {'CoffeeTime', 'CodingWithoutCoffee',\n",
    "       'CoffeeType', 'CoffeeSolveBugs', 'Gender', 'Country', 'AgeRange'}}\n",
    "multi_table([df_groupby['CoffeeTime'], df_groupby['CodingWithoutCoffee'],df_groupby['CoffeeType'],df_groupby['CoffeeSolveBugs']\n",
    "            ,df_groupby['Gender'],df_groupby['Gender'],df_groupby['AgeRange']])"
   ]
  },
  {
   "cell_type": "code",
   "execution_count": null,
   "id": "bb4fc048",
   "metadata": {
    "papermill": {
     "duration": 0.118646,
     "end_time": "2021-10-14T03:14:38.878945",
     "exception": false,
     "start_time": "2021-10-14T03:14:38.760299",
     "status": "completed"
    },
    "tags": []
   },
   "outputs": [],
   "source": []
  }
 ],
 "metadata": {
  "kernelspec": {
   "display_name": "Python 3 (ipykernel)",
   "language": "python",
   "name": "python3"
  },
  "language_info": {
   "codemirror_mode": {
    "name": "ipython",
    "version": 3
   },
   "file_extension": ".py",
   "mimetype": "text/x-python",
   "name": "python",
   "nbconvert_exporter": "python",
   "pygments_lexer": "ipython3",
   "version": "3.9.13"
  },
  "papermill": {
   "default_parameters": {},
   "duration": 57.850143,
   "end_time": "2021-10-14T03:14:40.824363",
   "environment_variables": {},
   "exception": null,
   "input_path": "__notebook__.ipynb",
   "output_path": "__notebook__.ipynb",
   "parameters": {},
   "start_time": "2021-10-14T03:13:42.974220",
   "version": "2.3.3"
  }
 },
 "nbformat": 4,
 "nbformat_minor": 5
}
